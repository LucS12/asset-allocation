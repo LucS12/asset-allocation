{
  "nbformat": 4,
  "nbformat_minor": 0,
  "metadata": {
    "colab": {
      "name": "Markowitz _vs_BL",
      "provenance": [],
      "collapsed_sections": []
    },
    "kernelspec": {
      "name": "python3",
      "display_name": "Python 3"
    },
    "language_info": {
      "name": "python"
    }
  },
  "cells": [
    {
      "cell_type": "markdown",
      "source": [
        "<img src=\"https://www.bpmfinancial.com/images/bpm/slide_01-man.jpg\" width=\"550px\" align=\"right\">"
      ],
      "metadata": {
        "id": "fQP9AnC021FB"
      }
    },
    {
      "cell_type": "markdown",
      "source": [
        "\n",
        "\n",
        "\n",
        "# Markowitz vs. Black-Litterman Model: 2-Asset Allocation\n",
        "\n",
        "\n",
        "Luc C. Smith\n",
        "\n",
        "---\n",
        "\n",
        "\n"
      ],
      "metadata": {
        "id": "cEhM1bXY21qB"
      }
    },
    {
      "cell_type": "markdown",
      "source": [
        "## Summary & Methods:\n",
        "\n",
        "\n",
        "---\n",
        "\n",
        "Markowitz's Modern Portfolio Theory became one of the great foundations of portfolio optimization and asset allocation. After it, extensions came along to enhance its ideas and cover some of the issues, giving way to such as the Black-Litterman model. These two are still consistently used throughout the financial sector for asset allocation, so a simple example is to be done comparing them with two assets only. The two assets will be Tesla and Coca-Cola's stocks, for one is extremely volatile with high returns while the other isn't so much, which will exemplify the models well. A simple minimum volatility optimization is to be done to exemplify Markowitz's Modern Portfolio Theory in contrast with Meucci's implementation of the Black-Litterman model with Idzorek's weight formula. The minimum volatility optimizer and the Black-Litterman model are done from scratch. \n",
        "\n"
      ],
      "metadata": {
        "id": "D6Vl7RJx5X9w"
      }
    },
    {
      "cell_type": "markdown",
      "source": [
        "## Markowitz's Modern Portfolio Theory:\n",
        "\n",
        "\n",
        "---\n",
        "\n",
        "American economist Harry Markowitz came up with the Modern Portfolio Theory in 1952, for which he was awarded a Nobel Prize. His theory emphasizes diversification and aims to find an optimized allocation of capital between assets. With this, this method constructs portfolios diversifying the allocation to maximize returns for certain levels of risk, creating an efficient frontier of portfolios with optimal weights for specific levels of risk and return. Risk is measured as volatility here, which is the standard deviation stemed from the variance of the returns of the portfolio's assets and the covariance between them. These ideas bring the key component of Markowitz's theory of diversification, for they aim to highlight how an asset shouldn't only be viewed individually but in how they affect the overall portfolio instead. When assets have inverse relationships in their price movements, the more they are able to diversify the portfolio since one isn't dependent on the other. Ultimatelly, Modern Portfolio Theory allows investors to construct more efficient portfolios. Even though there are a few variations of it, the simplest form is implemented here to minimize volatility only.\n",
        "- **Minimize(volatility)** \n",
        "- **Volatility = square_root((w.T)(Cov)(w))**\n",
        "  - *w.T: transpose of weights of assets.*\n",
        "  - *Cov: covariance matrix showing correlation/relationship between assets.*\n",
        "  - *w: weights of assets.*   "
      ],
      "metadata": {
        "id": "tveSV21d5YVF"
      }
    },
    {
      "cell_type": "markdown",
      "source": [
        "## The Black-Litterman Model:\n",
        "\n",
        "\n",
        "---\n",
        "\n",
        "\n"
      ],
      "metadata": {
        "id": "7Q4h0uk-5YXh"
      }
    },
    {
      "cell_type": "markdown",
      "source": [
        "Even though Markowitz's Modern Portfolio Theory became so prominent, it still has its issues. A few of them is that it can generate highly concentrated portfolios as some assets may have much bigger returns and volatility as well. With this, small changes in the returns measure also poses great sensitivity to the allocation, so huge weights can be attained towards one or two assets, which defeats the idea of diversification since the capital is not being spread out more. Furthermore, only returns and volatility are taken into consideration from a historical approach, and many investors may have their own opinions and ideas about assets and their future performances. As a result of these issues, extensions have been made to the method. Fischer Black and Robert Litterman created the Black-Litterman model at Goldman Sachs in 1990 to respond to these issues and give the ability for investors to use their views in the asset allocation method. This model begins with the market capitalization weights of assets as the portfolio and uses investor views on how they will perform in the future to optimize the return and risk metrics, producing new returns and a new covariance matrix to be used in the optimization part through the mean-variance objective function (Markowitz). Essentially, Black-Litterman adds the investor views to the Markowitz optimization function. Here, Meucci's implementation is to be used as he found more stable equations that are mathematically equal to the original ones. Here are the steps and equations for each part:\n",
        "- **Step 1**: Market Cap. Weights: just retrieve market capitalization of assets and divide each by the total.\n",
        "- **Step 2**: Estimate the initial covariance matrix (S) from the returns.\n",
        " - Here, simple Python \"cov()\" method is used.\n",
        "- **Step 3**: Calculate the implied equilibrium excess returns (pi) to attain the market returns of the assets:\n",
        "  - *pi = 2(A)(S)(market cap weights)*\n",
        "  - *A: risk-aversion*\n",
        "- **Step 4**: set the views vector (Q) for each investor view.\n",
        "- **Step 5**: set the link matrix (P) to align the views to the specific assets.\n",
        "  - This matrix has the number of views as the number of rows and columns being equal to the number of assets.\n",
        "- **Step 6**: scalar tau, standardizer c, and the uncertainty of views matrix (omega):\n",
        "  - *tau = 1 / length of time series*\n",
        "  - *c = 1 as default* \n",
        "  - *omega = [ (P)(S)(P.T) ] / c*\n",
        "- **Step 7**: Calculate the posterior/Black-Litterman returns (optimized returns):\n",
        "  -  *post_returns = pi + (tau)(S)(P^T) x (tau)(P)(S)(P^T) + omega)^-1 x (Q - (P)(pi))*\n",
        "- **Step 8**: Calculate the posterior/Black-Litterman covariance matrix (optimized matrix):\n",
        "  -  *post_S = (1+tau)(S) - (tau^2)(S)(P.T) x ((tau)(P)(S)(P.T) + omega)^-1 x (P)(S)*\n",
        "- **Step 9**: Make sure the posterior covariance is symmetric by summing it with its transpose and dividing by 2 and than making sure it is strictly positive semi-definite, which is needed for the optimization to work.\n",
        "  - Here, a package is used to do this.\n",
        "- **Step 10**: calculate the posterior weights:\n",
        "  - *posterior_w = post_returns(A)(post_S)^-1*\n"
      ],
      "metadata": {
        "id": "YkpOYE8_FRWx"
      }
    },
    {
      "cell_type": "markdown",
      "source": [
        "## Tools of Implementation: Python\n",
        "\n",
        "\n",
        "---\n",
        "\n",
        "\n",
        "\n",
        "A prominent idea being tied to asset allocation is automation, so Python is a great tool for this being one of the most popular analytics and finance related programming languages. It contains many useful packages for these types of uses while also being free. Here, an algorithm is built to implement the two models described above with the following Python packages:\n",
        "- **NumPy**: mathematical and vectorized tools (vector/matrix calculations).\n",
        "- **Pandas**: data manipulation and tabular analytics.\n",
        "- **Matplotlib**: visualization tools.\n",
        "- **Pandas-datareader**: data gathering of stock prices.\n",
        "- **cov_nearest**: statistical modelling tool to make sure posterior covariance is strictly positive semi-definite for optimization."
      ],
      "metadata": {
        "id": "9ckT20vcgxAy"
      }
    },
    {
      "cell_type": "markdown",
      "source": [
        "# Implementation:\n",
        "\n",
        "\n",
        "---\n",
        "\n"
      ],
      "metadata": {
        "id": "ka4CAEJFiAH4"
      }
    },
    {
      "cell_type": "markdown",
      "source": [
        "- Before coding the implementation, the necessary packages named previously need to be imported:"
      ],
      "metadata": {
        "id": "kYjVqZ9CjHYb"
      }
    },
    {
      "cell_type": "code",
      "source": [
        "#Necessary Packages:\n",
        "import pandas as pd\n",
        "import numpy as np\n",
        "import matplotlib.pyplot as plt\n",
        "import pandas_datareader.data as web\n",
        "from statsmodels.stats.correlation_tools import cov_nearest"
      ],
      "metadata": {
        "id": "rc8EM9DajHtj",
        "colab": {
          "base_uri": "https://localhost:8080/"
        },
        "outputId": "07842ebe-d5d8-473e-b101-dabe0861be56"
      },
      "execution_count": 1,
      "outputs": [
        {
          "output_type": "stream",
          "name": "stderr",
          "text": [
            "/usr/local/lib/python3.7/dist-packages/statsmodels/tools/_testing.py:19: FutureWarning: pandas.util.testing is deprecated. Use the functions in the public API at pandas.testing instead.\n",
            "  import pandas.util.testing as tm\n"
          ]
        }
      ]
    },
    {
      "cell_type": "markdown",
      "source": [
        "- Now, the data can be gathered using pandas-datareader for more than 3 years. Only the closing prices are needed:"
      ],
      "metadata": {
        "id": "D_DHbP6rjH4-"
      }
    },
    {
      "cell_type": "code",
      "source": [
        "#Gather closing prices for TSLA and KO stocks:\n",
        "stocks = ['TSLA', 'KO']\n",
        "data = web.DataReader(stocks, start='2018-01-01', end='2021-10-27', data_source='stooq').Close\n",
        "data.head()"
      ],
      "metadata": {
        "colab": {
          "base_uri": "https://localhost:8080/",
          "height": 237
        },
        "id": "pYJZSXE9jIFr",
        "outputId": "677e6c56-dea5-461d-a218-44a2f8fb8a15"
      },
      "execution_count": 2,
      "outputs": [
        {
          "output_type": "execute_result",
          "data": {
            "text/html": [
              "\n",
              "  <div id=\"df-889ae7a9-f1d2-41ba-aa50-563d26a09602\">\n",
              "    <div class=\"colab-df-container\">\n",
              "      <div>\n",
              "<style scoped>\n",
              "    .dataframe tbody tr th:only-of-type {\n",
              "        vertical-align: middle;\n",
              "    }\n",
              "\n",
              "    .dataframe tbody tr th {\n",
              "        vertical-align: top;\n",
              "    }\n",
              "\n",
              "    .dataframe thead th {\n",
              "        text-align: right;\n",
              "    }\n",
              "</style>\n",
              "<table border=\"1\" class=\"dataframe\">\n",
              "  <thead>\n",
              "    <tr style=\"text-align: right;\">\n",
              "      <th>Symbols</th>\n",
              "      <th>TSLA</th>\n",
              "      <th>KO</th>\n",
              "    </tr>\n",
              "    <tr>\n",
              "      <th>Date</th>\n",
              "      <th></th>\n",
              "      <th></th>\n",
              "    </tr>\n",
              "  </thead>\n",
              "  <tbody>\n",
              "    <tr>\n",
              "      <th>2021-10-27</th>\n",
              "      <td>1037.86</td>\n",
              "      <td>55.52</td>\n",
              "    </tr>\n",
              "    <tr>\n",
              "      <th>2021-10-26</th>\n",
              "      <td>1018.43</td>\n",
              "      <td>54.47</td>\n",
              "    </tr>\n",
              "    <tr>\n",
              "      <th>2021-10-25</th>\n",
              "      <td>1024.86</td>\n",
              "      <td>54.23</td>\n",
              "    </tr>\n",
              "    <tr>\n",
              "      <th>2021-10-22</th>\n",
              "      <td>909.68</td>\n",
              "      <td>54.45</td>\n",
              "    </tr>\n",
              "    <tr>\n",
              "      <th>2021-10-21</th>\n",
              "      <td>894.00</td>\n",
              "      <td>54.35</td>\n",
              "    </tr>\n",
              "  </tbody>\n",
              "</table>\n",
              "</div>\n",
              "      <button class=\"colab-df-convert\" onclick=\"convertToInteractive('df-889ae7a9-f1d2-41ba-aa50-563d26a09602')\"\n",
              "              title=\"Convert this dataframe to an interactive table.\"\n",
              "              style=\"display:none;\">\n",
              "        \n",
              "  <svg xmlns=\"http://www.w3.org/2000/svg\" height=\"24px\"viewBox=\"0 0 24 24\"\n",
              "       width=\"24px\">\n",
              "    <path d=\"M0 0h24v24H0V0z\" fill=\"none\"/>\n",
              "    <path d=\"M18.56 5.44l.94 2.06.94-2.06 2.06-.94-2.06-.94-.94-2.06-.94 2.06-2.06.94zm-11 1L8.5 8.5l.94-2.06 2.06-.94-2.06-.94L8.5 2.5l-.94 2.06-2.06.94zm10 10l.94 2.06.94-2.06 2.06-.94-2.06-.94-.94-2.06-.94 2.06-2.06.94z\"/><path d=\"M17.41 7.96l-1.37-1.37c-.4-.4-.92-.59-1.43-.59-.52 0-1.04.2-1.43.59L10.3 9.45l-7.72 7.72c-.78.78-.78 2.05 0 2.83L4 21.41c.39.39.9.59 1.41.59.51 0 1.02-.2 1.41-.59l7.78-7.78 2.81-2.81c.8-.78.8-2.07 0-2.86zM5.41 20L4 18.59l7.72-7.72 1.47 1.35L5.41 20z\"/>\n",
              "  </svg>\n",
              "      </button>\n",
              "      \n",
              "  <style>\n",
              "    .colab-df-container {\n",
              "      display:flex;\n",
              "      flex-wrap:wrap;\n",
              "      gap: 12px;\n",
              "    }\n",
              "\n",
              "    .colab-df-convert {\n",
              "      background-color: #E8F0FE;\n",
              "      border: none;\n",
              "      border-radius: 50%;\n",
              "      cursor: pointer;\n",
              "      display: none;\n",
              "      fill: #1967D2;\n",
              "      height: 32px;\n",
              "      padding: 0 0 0 0;\n",
              "      width: 32px;\n",
              "    }\n",
              "\n",
              "    .colab-df-convert:hover {\n",
              "      background-color: #E2EBFA;\n",
              "      box-shadow: 0px 1px 2px rgba(60, 64, 67, 0.3), 0px 1px 3px 1px rgba(60, 64, 67, 0.15);\n",
              "      fill: #174EA6;\n",
              "    }\n",
              "\n",
              "    [theme=dark] .colab-df-convert {\n",
              "      background-color: #3B4455;\n",
              "      fill: #D2E3FC;\n",
              "    }\n",
              "\n",
              "    [theme=dark] .colab-df-convert:hover {\n",
              "      background-color: #434B5C;\n",
              "      box-shadow: 0px 1px 3px 1px rgba(0, 0, 0, 0.15);\n",
              "      filter: drop-shadow(0px 1px 2px rgba(0, 0, 0, 0.3));\n",
              "      fill: #FFFFFF;\n",
              "    }\n",
              "  </style>\n",
              "\n",
              "      <script>\n",
              "        const buttonEl =\n",
              "          document.querySelector('#df-889ae7a9-f1d2-41ba-aa50-563d26a09602 button.colab-df-convert');\n",
              "        buttonEl.style.display =\n",
              "          google.colab.kernel.accessAllowed ? 'block' : 'none';\n",
              "\n",
              "        async function convertToInteractive(key) {\n",
              "          const element = document.querySelector('#df-889ae7a9-f1d2-41ba-aa50-563d26a09602');\n",
              "          const dataTable =\n",
              "            await google.colab.kernel.invokeFunction('convertToInteractive',\n",
              "                                                     [key], {});\n",
              "          if (!dataTable) return;\n",
              "\n",
              "          const docLinkHtml = 'Like what you see? Visit the ' +\n",
              "            '<a target=\"_blank\" href=https://colab.research.google.com/notebooks/data_table.ipynb>data table notebook</a>'\n",
              "            + ' to learn more about interactive tables.';\n",
              "          element.innerHTML = '';\n",
              "          dataTable['output_type'] = 'display_data';\n",
              "          await google.colab.output.renderOutput(dataTable, element);\n",
              "          const docLink = document.createElement('div');\n",
              "          docLink.innerHTML = docLinkHtml;\n",
              "          element.appendChild(docLink);\n",
              "        }\n",
              "      </script>\n",
              "    </div>\n",
              "  </div>\n",
              "  "
            ],
            "text/plain": [
              "Symbols        TSLA     KO\n",
              "Date                      \n",
              "2021-10-27  1037.86  55.52\n",
              "2021-10-26  1018.43  54.47\n",
              "2021-10-25  1024.86  54.23\n",
              "2021-10-22   909.68  54.45\n",
              "2021-10-21   894.00  54.35"
            ]
          },
          "metadata": {},
          "execution_count": 2
        }
      ]
    },
    {
      "cell_type": "markdown",
      "source": [
        "\n",
        "- With this, the yearly return and the covariance matrix can now be calculated with simple Pandas functions:"
      ],
      "metadata": {
        "id": "UjtwETBRjIRC"
      }
    },
    {
      "cell_type": "code",
      "source": [
        "#Calculate yearly returns and covariance matrix:\n",
        "yearly_ret = data.resample('Y').last().pct_change().mean()  #Average yearly returns\n",
        "cov = data.pct_change().cov()\n",
        "print('Yearly Returns: \\n' + str(yearly_ret))\n",
        "print('\\nCovariance Matrix:\\n' + str(cov))"
      ],
      "metadata": {
        "colab": {
          "base_uri": "https://localhost:8080/"
        },
        "id": "9GqglQtDjIbc",
        "outputId": "0353e776-35eb-4b1c-9f6d-69e1b91e71eb"
      },
      "execution_count": 3,
      "outputs": [
        {
          "output_type": "stream",
          "name": "stdout",
          "text": [
            "Yearly Returns: \n",
            "Symbols\n",
            "TSLA    2.720705\n",
            "KO      0.088992\n",
            "dtype: float64\n",
            "\n",
            "Covariance Matrix:\n",
            "Symbols      TSLA        KO\n",
            "Symbols                    \n",
            "TSLA     0.001682  0.000128\n",
            "KO       0.000128  0.000201\n"
          ]
        }
      ]
    },
    {
      "cell_type": "markdown",
      "source": [
        "- Now, the minimum volatility portfolio can be found by simply looping through all possible weights between the two, which will be 100 different ones as the weights will start at 0 and end at 1. Here, a loop is done for this making Tesla's weight go from 0 to 1 by 0.01 increments and adding the weights, returns, and volatilities to empty lists, which then later get placed into a dictionary to be placed directly into a Pandas dataframe. Pandas dataframes have methods to easily find a specific row by a criterion, which here will be the minimum volatility. Matrices and vectors can easily be multiplied by NumPy's vectorized operations such as np.dot, so the variance can easily be calculated as such. "
      ],
      "metadata": {
        "id": "CviUc5sEjIlj"
      }
    },
    {
      "cell_type": "code",
      "source": [
        "#Empty lists to store weights, returns, and volatilities of portfolios made:\n",
        "weights = []\n",
        "returns = []\n",
        "vols = []\n",
        "\n",
        "tesla_w = 0   #TSLA initial weight\n",
        "\n",
        "#Loop to calculate each portfolio with 100 different weights for TSLA:\n",
        "for i in range(101):\n",
        "  #Weights calculation:\n",
        "  coke_w = 1 - tesla_w              #Find coke's weight given TSLA's\n",
        "  w = np.array([tesla_w, coke_w])   #groups the two weights as one \n",
        "  weights.append(w)                 #Adds the two into list\n",
        "  tesla_w += 0.01                   #Increase tesla weight each iteration by 0.01\n",
        "\n",
        "  #Returns:\n",
        "  ret = np.dot(w, yearly_ret)       #Weighted sum between returns and weights\n",
        "  returns.append(ret)               #Add it to the list\n",
        "\n",
        "  #Volatility:\n",
        "  var = np.dot(w.T, np.dot(cov, w))        #w.T*Cov*w as shown previously\n",
        "  yearly_vol = np.sqrt(var)*np.sqrt(252)   #Standard deviation is volatility\n",
        "  vols.append(yearly_vol)\n",
        "\n",
        "#Putting made lists into a dictionary:\n",
        "port = {'Returns': returns, 'Volatility':vols}\n",
        "\n",
        "#Placing weights into dictionary made with a list comprehension:\n",
        "for counter, symbol in enumerate(data.columns.tolist()):\n",
        "  port[symbol + '_Weight'] = [weight[counter] for weight in weights]\n",
        "\n",
        "#Make a dataframe from the dictionary buil:\n",
        "port_df = pd.DataFrame(port)\n",
        "port_df.head()"
      ],
      "metadata": {
        "colab": {
          "base_uri": "https://localhost:8080/",
          "height": 206
        },
        "id": "0DRDe3JwjIwm",
        "outputId": "e86f8c1f-3bcf-484b-de67-cd08f3667d3b"
      },
      "execution_count": 4,
      "outputs": [
        {
          "output_type": "execute_result",
          "data": {
            "text/html": [
              "\n",
              "  <div id=\"df-33fba4b9-9bbe-4bef-9d1f-3df526f6a82e\">\n",
              "    <div class=\"colab-df-container\">\n",
              "      <div>\n",
              "<style scoped>\n",
              "    .dataframe tbody tr th:only-of-type {\n",
              "        vertical-align: middle;\n",
              "    }\n",
              "\n",
              "    .dataframe tbody tr th {\n",
              "        vertical-align: top;\n",
              "    }\n",
              "\n",
              "    .dataframe thead th {\n",
              "        text-align: right;\n",
              "    }\n",
              "</style>\n",
              "<table border=\"1\" class=\"dataframe\">\n",
              "  <thead>\n",
              "    <tr style=\"text-align: right;\">\n",
              "      <th></th>\n",
              "      <th>Returns</th>\n",
              "      <th>Volatility</th>\n",
              "      <th>TSLA_Weight</th>\n",
              "      <th>KO_Weight</th>\n",
              "    </tr>\n",
              "  </thead>\n",
              "  <tbody>\n",
              "    <tr>\n",
              "      <th>0</th>\n",
              "      <td>0.088992</td>\n",
              "      <td>0.225079</td>\n",
              "      <td>0.00</td>\n",
              "      <td>1.00</td>\n",
              "    </tr>\n",
              "    <tr>\n",
              "      <th>1</th>\n",
              "      <td>0.115309</td>\n",
              "      <td>0.224347</td>\n",
              "      <td>0.01</td>\n",
              "      <td>0.99</td>\n",
              "    </tr>\n",
              "    <tr>\n",
              "      <th>2</th>\n",
              "      <td>0.141626</td>\n",
              "      <td>0.223796</td>\n",
              "      <td>0.02</td>\n",
              "      <td>0.98</td>\n",
              "    </tr>\n",
              "    <tr>\n",
              "      <th>3</th>\n",
              "      <td>0.167943</td>\n",
              "      <td>0.223427</td>\n",
              "      <td>0.03</td>\n",
              "      <td>0.97</td>\n",
              "    </tr>\n",
              "    <tr>\n",
              "      <th>4</th>\n",
              "      <td>0.194260</td>\n",
              "      <td>0.223241</td>\n",
              "      <td>0.04</td>\n",
              "      <td>0.96</td>\n",
              "    </tr>\n",
              "  </tbody>\n",
              "</table>\n",
              "</div>\n",
              "      <button class=\"colab-df-convert\" onclick=\"convertToInteractive('df-33fba4b9-9bbe-4bef-9d1f-3df526f6a82e')\"\n",
              "              title=\"Convert this dataframe to an interactive table.\"\n",
              "              style=\"display:none;\">\n",
              "        \n",
              "  <svg xmlns=\"http://www.w3.org/2000/svg\" height=\"24px\"viewBox=\"0 0 24 24\"\n",
              "       width=\"24px\">\n",
              "    <path d=\"M0 0h24v24H0V0z\" fill=\"none\"/>\n",
              "    <path d=\"M18.56 5.44l.94 2.06.94-2.06 2.06-.94-2.06-.94-.94-2.06-.94 2.06-2.06.94zm-11 1L8.5 8.5l.94-2.06 2.06-.94-2.06-.94L8.5 2.5l-.94 2.06-2.06.94zm10 10l.94 2.06.94-2.06 2.06-.94-2.06-.94-.94-2.06-.94 2.06-2.06.94z\"/><path d=\"M17.41 7.96l-1.37-1.37c-.4-.4-.92-.59-1.43-.59-.52 0-1.04.2-1.43.59L10.3 9.45l-7.72 7.72c-.78.78-.78 2.05 0 2.83L4 21.41c.39.39.9.59 1.41.59.51 0 1.02-.2 1.41-.59l7.78-7.78 2.81-2.81c.8-.78.8-2.07 0-2.86zM5.41 20L4 18.59l7.72-7.72 1.47 1.35L5.41 20z\"/>\n",
              "  </svg>\n",
              "      </button>\n",
              "      \n",
              "  <style>\n",
              "    .colab-df-container {\n",
              "      display:flex;\n",
              "      flex-wrap:wrap;\n",
              "      gap: 12px;\n",
              "    }\n",
              "\n",
              "    .colab-df-convert {\n",
              "      background-color: #E8F0FE;\n",
              "      border: none;\n",
              "      border-radius: 50%;\n",
              "      cursor: pointer;\n",
              "      display: none;\n",
              "      fill: #1967D2;\n",
              "      height: 32px;\n",
              "      padding: 0 0 0 0;\n",
              "      width: 32px;\n",
              "    }\n",
              "\n",
              "    .colab-df-convert:hover {\n",
              "      background-color: #E2EBFA;\n",
              "      box-shadow: 0px 1px 2px rgba(60, 64, 67, 0.3), 0px 1px 3px 1px rgba(60, 64, 67, 0.15);\n",
              "      fill: #174EA6;\n",
              "    }\n",
              "\n",
              "    [theme=dark] .colab-df-convert {\n",
              "      background-color: #3B4455;\n",
              "      fill: #D2E3FC;\n",
              "    }\n",
              "\n",
              "    [theme=dark] .colab-df-convert:hover {\n",
              "      background-color: #434B5C;\n",
              "      box-shadow: 0px 1px 3px 1px rgba(0, 0, 0, 0.15);\n",
              "      filter: drop-shadow(0px 1px 2px rgba(0, 0, 0, 0.3));\n",
              "      fill: #FFFFFF;\n",
              "    }\n",
              "  </style>\n",
              "\n",
              "      <script>\n",
              "        const buttonEl =\n",
              "          document.querySelector('#df-33fba4b9-9bbe-4bef-9d1f-3df526f6a82e button.colab-df-convert');\n",
              "        buttonEl.style.display =\n",
              "          google.colab.kernel.accessAllowed ? 'block' : 'none';\n",
              "\n",
              "        async function convertToInteractive(key) {\n",
              "          const element = document.querySelector('#df-33fba4b9-9bbe-4bef-9d1f-3df526f6a82e');\n",
              "          const dataTable =\n",
              "            await google.colab.kernel.invokeFunction('convertToInteractive',\n",
              "                                                     [key], {});\n",
              "          if (!dataTable) return;\n",
              "\n",
              "          const docLinkHtml = 'Like what you see? Visit the ' +\n",
              "            '<a target=\"_blank\" href=https://colab.research.google.com/notebooks/data_table.ipynb>data table notebook</a>'\n",
              "            + ' to learn more about interactive tables.';\n",
              "          element.innerHTML = '';\n",
              "          dataTable['output_type'] = 'display_data';\n",
              "          await google.colab.output.renderOutput(dataTable, element);\n",
              "          const docLink = document.createElement('div');\n",
              "          docLink.innerHTML = docLinkHtml;\n",
              "          element.appendChild(docLink);\n",
              "        }\n",
              "      </script>\n",
              "    </div>\n",
              "  </div>\n",
              "  "
            ],
            "text/plain": [
              "    Returns  Volatility  TSLA_Weight  KO_Weight\n",
              "0  0.088992    0.225079         0.00       1.00\n",
              "1  0.115309    0.224347         0.01       0.99\n",
              "2  0.141626    0.223796         0.02       0.98\n",
              "3  0.167943    0.223427         0.03       0.97\n",
              "4  0.194260    0.223241         0.04       0.96"
            ]
          },
          "metadata": {},
          "execution_count": 4
        }
      ]
    },
    {
      "cell_type": "markdown",
      "source": [
        "- As it can be seen, as Tesla's weight increases, so does the returns. More interestingly, the volatility actually decreases first even though Tesla is much more volatile. This highlights Markowitz's Modern Portfolio Theory as it shows how placing all of the allocation into the least risky asset is actually not the least risky allocation, for diversification can actually reduce risk even more due to correlation differences among assets. Now, the minimum volatility portfolio can be found with Pandas and plotted against all of the other 99 portfolios made to see a visual representation:\n"
      ],
      "metadata": {
        "id": "eCzES-9GrIQM"
      }
    },
    {
      "cell_type": "code",
      "source": [
        "# Minimum Volatility Portfolio:\n",
        "min_vol = port_df.iloc[port_df.Volatility.idxmin()]\n",
        "print('Min. Vol. Portfolio:\\n' + str(min_vol))"
      ],
      "metadata": {
        "id": "IpnQtZWKt56E",
        "colab": {
          "base_uri": "https://localhost:8080/"
        },
        "outputId": "210ee39a-9d73-43ad-b709-c8ce4728ccc9"
      },
      "execution_count": 5,
      "outputs": [
        {
          "output_type": "stream",
          "name": "stdout",
          "text": [
            "Min. Vol. Portfolio:\n",
            "Returns        0.220577\n",
            "Volatility     0.223240\n",
            "TSLA_Weight    0.050000\n",
            "KO_Weight      0.950000\n",
            "Name: 5, dtype: float64\n"
          ]
        }
      ]
    },
    {
      "cell_type": "markdown",
      "source": [
        "- As seen, and as expected, the minimum volatility portfolio allocates the vast majority towards Coca-Cola's stock as it is less risky. Here is a visual representation using Matplotlib, where the minimum volatility portfolio is the yellow star:\n",
        "\n"
      ],
      "metadata": {
        "id": "CIzGeccNuzhQ"
      }
    },
    {
      "cell_type": "code",
      "source": [
        "#Plot Tesla Weight vs. Volatility\n",
        "plt.subplots(figsize=(10,8))\n",
        "plt.title('Tesla Weight vs Port. Volatility', fontsize=20)\n",
        "plt.xlabel('Tesla Weight', fontsize=15)\n",
        "plt.ylabel('Volatility', fontsize=15)\n",
        "plt.scatter(port_df.TSLA_Weight, port_df.Volatility, s=5)\n",
        "plt.scatter(min_vol[2], min_vol[1], s=350, color = 'y', marker = '*')\n",
        "plt.show()"
      ],
      "metadata": {
        "colab": {
          "base_uri": "https://localhost:8080/",
          "height": 522
        },
        "id": "mhhxMNJpvHd5",
        "outputId": "2504f188-f195-48c4-ee0a-bfd35c08ad49"
      },
      "execution_count": 6,
      "outputs": [
        {
          "output_type": "display_data",
          "data": {
            "image/png": "[encoded data removed]",
            "text/plain": [
              "<Figure size 720x576 with 1 Axes>"
            ]
          },
          "metadata": {
            "needs_background": "light"
          }
        }
      ]
    },
    {
      "cell_type": "markdown",
      "source": [
        "- With the first method done, the Black-Litterman model can now be constructed and implemented. As stated, the market capitalization weights first need to be calculated. Pandas-datareader once again help in the data gathering:"
      ],
      "metadata": {
        "id": "LzPZAtfXvoQP"
      }
    },
    {
      "cell_type": "code",
      "source": [
        "#Market Cap. Weights:\n",
        "mcs = web.get_quote_yahoo(stocks)['marketCap'].values    #Geta market caps of each as np array\n",
        "mcs_w = mcs / mcs.sum()    #NumPy lets us do vectorized operation\n",
        "mcs_w"
      ],
      "metadata": {
        "colab": {
          "base_uri": "https://localhost:8080/"
        },
        "id": "580qxmQsv9lD",
        "outputId": "bfca0200-88b8-4e45-bb84-9f5867e59a0e"
      },
      "execution_count": 7,
      "outputs": [
        {
          "output_type": "execute_result",
          "data": {
            "text/plain": [
              "array([0.77908741, 0.22091259])"
            ]
          },
          "metadata": {},
          "execution_count": 7
        }
      ]
    },
    {
      "cell_type": "markdown",
      "source": [
        "- Now, the risk-aversion (A) parameter can be set (Meucci uses 1.2 as default) and the S can be set to equal the covariance matrix previously calculated:"
      ],
      "metadata": {
        "id": "8ry_cVo5N839"
      }
    },
    {
      "cell_type": "code",
      "source": [
        "#Risk-Aversion and Covariance Matrix (S):\n",
        "A = 1.2\n",
        "S = cov"
      ],
      "metadata": {
        "id": "2QNGpxBdOa_2"
      },
      "execution_count": 8,
      "outputs": []
    },
    {
      "cell_type": "markdown",
      "source": [
        "- The next step is to calculate the implied equilibrium excess returns with the covariance, risk-aversion, and market cap. weights. Np.dot lets us do a dot product between vectors and matrices:\n"
      ],
      "metadata": {
        "id": "tH8FmpvLOgpl"
      }
    },
    {
      "cell_type": "code",
      "source": [
        "#Implied Equilibrium Excess Returns (pi):\n",
        "    #pi = 2A*S*w\n",
        "pi = 2.0*A*np.dot(S, mcs_w)   \n",
        "pi"
      ],
      "metadata": {
        "colab": {
          "base_uri": "https://localhost:8080/"
        },
        "id": "s6byZSHtWHVJ",
        "outputId": "5b914445-2f4f-497d-a406-51bc5c86e1b0"
      },
      "execution_count": 9,
      "outputs": [
        {
          "output_type": "execute_result",
          "data": {
            "text/plain": [
              "array([0.00321326, 0.00034518])"
            ]
          },
          "metadata": {},
          "execution_count": 9
        }
      ]
    },
    {
      "cell_type": "markdown",
      "source": [
        "- There are only a few more needed variables for the model. Without an investor's views, this would just be the market portfolio as calculated with the market cap. weights, so a sample investor view is needed. Views can be either absolute such as \"Tesla will go up by 10%\" or relative such as \"Tesla will outperform Coca-Cola by 10%.\" Relative views are more prominent among the industry, so this will be used here as the second example just named. The link matrix follows, with 1 as the asset with the positive view, Tesla, and -1 as the asset with the negative view, Coca-Cola. c, tau, and omega will also be done in the next cell with the respective Meucci formulas:"
      ],
      "metadata": {
        "id": "ZymyRVxWWiYc"
      }
    },
    {
      "cell_type": "code",
      "source": [
        "#Views (Q): Tesla will outperform coca cola by 10% \n",
        "Q = np.array([0.5])\n",
        "\n",
        "#Link Matrix (P): 1 for positive viewed asset and -1 for negatively viewed asset\n",
        "P = np.array([1, -1])\n",
        "\n",
        "#Scalar (tau), c, and Uncertainty of views matrix (omega):\n",
        "    #tau = 1 / length of time series \n",
        "    #c = 1 as default\n",
        "    #omega = 1/c*P*S*P^T \n",
        "c = 1  \n",
        "tau = 1/float(len(data))\n",
        "omega = (1/c) * np.dot(np.dot(P, S), P.T) \n",
        "omega"
      ],
      "metadata": {
        "colab": {
          "base_uri": "https://localhost:8080/"
        },
        "id": "4_enK9r8X9oQ",
        "outputId": "ca0b6cc6-0179-4431-dc91-70926a08f787"
      },
      "execution_count": 10,
      "outputs": [
        {
          "output_type": "execute_result",
          "data": {
            "text/plain": [
              "0.0016281440954906779"
            ]
          },
          "metadata": {},
          "execution_count": 10
        }
      ]
    },
    {
      "cell_type": "markdown",
      "source": [
        "- The Black-Litterman main formulas enhanced by Meucci can now be used to calculate the posterior returns and covariance matrix needed to be used in the formula for the weights' generation. The covariance matris can then be sumed with its transpose and divided by 2 to ensure it is symmetric to then use the statistical model cov_nearest to ensure it is strictly positive semi-definite, which is needed for some optimization tools to not receive errors:"
      ],
      "metadata": {
        "id": "SyHM4kttYuMD"
      }
    },
    {
      "cell_type": "code",
      "source": [
        "#BL Excess Return:\n",
        "    # = pi + tau*S*P^T * (tau*P*S*P^T + omega)^-1 * (Q - P*pi)\n",
        "bl_returns = pi + (np.dot(tau*np.dot(S, P.T), \n",
        "             (tau*np.dot(np.dot(P, S), P.T) + omega)**-1) * (Q - np.dot(P, pi)))\n",
        "\n",
        "#BL Covariance Matrix:\n",
        "    # = (1+tau)*S - tau^2*S*P.T * (tau*P*S*P.T + omega)^-1 * P*S\n",
        "bl_S = (1+tau)*S - np.dot(np.dot(tau**2*np.dot(S, P.T), \n",
        "        (np.dot(tau*np.dot(P, S), P.T) + omega)**-1), np.dot(P, S))\n",
        "\n",
        "sym_S = (bl_S + bl_S.T) / 2      #Make it symmetric\n",
        "semidef_S = cov_nearest(sym_S)   #Make it strict positive semi-definite\n",
        "\n",
        "bl_returns, semidef_S"
      ],
      "metadata": {
        "colab": {
          "base_uri": "https://localhost:8080/"
        },
        "id": "whsolvNfZFBY",
        "outputId": "a0c2f8da-03aa-48c1-944d-14fd2cbbb011"
      },
      "execution_count": 11,
      "outputs": [
        {
          "output_type": "execute_result",
          "data": {
            "text/plain": [
              "(array([0.0037057 , 0.00032192]), array([[0.00168406, 0.00012773],\n",
              "        [0.00012773, 0.00020124]]))"
            ]
          },
          "metadata": {},
          "execution_count": 11
        }
      ]
    },
    {
      "cell_type": "markdown",
      "source": [
        "- With all the components prepared, the weights can be generated with the formula named in Idzorek's paper, using the new returns and new covariance matrix:"
      ],
      "metadata": {
        "id": "CCW3JQQFaBy9"
      }
    },
    {
      "cell_type": "code",
      "source": [
        "#BL Posterior Weights:\n",
        "    # w' = postRet * (A*postS)^-1\n",
        "post_W = np.dot(bl_returns, np.linalg.inv(A*semidef_S))     \n",
        "post_W = post_W / post_W.sum()   \n",
        "\n",
        "#Printing BL Weights:\n",
        "print('\\nB-L Adjusted Portfolio Weights:')\n",
        "print('Tesla: ' + str(round(post_W[0], 2)))\n",
        "print('Coca-Cola: ' + str(round(post_W[1],2)))"
      ],
      "metadata": {
        "colab": {
          "base_uri": "https://localhost:8080/"
        },
        "id": "XCfqLQsDcxDo",
        "outputId": "f901ced3-af4d-4e7b-90d1-2985c5909310"
      },
      "execution_count": 14,
      "outputs": [
        {
          "output_type": "stream",
          "name": "stdout",
          "text": [
            "\n",
            "B-L Adjusted Portfolio Weights:\n",
            "Tesla: 0.91\n",
            "Coca-Cola: 0.09\n"
          ]
        }
      ]
    },
    {
      "cell_type": "markdown",
      "source": [
        "- Finally, a bar graph can be made to compare the two methods implemented here for a visual perspective. This can simply be done by placing both set of weights into a Pandas dataframe with the columns as the stock names and the index as the method used. Pandas dataframes have a plotting method connected to matplotlib:"
      ],
      "metadata": {
        "id": "FWJcldTWdCv5"
      }
    },
    {
      "cell_type": "code",
      "source": [
        "#Setting weights to respective lists:\n",
        "mark_ws = [min_vol[2], min_vol[3]]\n",
        "bl_ws = post_W\n",
        "\n",
        "#Placing weights into dataframe:\n",
        "frame = pd.DataFrame([mark_ws, bl_ws],\n",
        "                     columns = stocks,\n",
        "                     index = ['Min. Vol. Weights', 'B-L Weights'])\n",
        "\n",
        "frame.T.plot(kind='bar', figsize=(12,8))  #Plotting the dataframe as a bar chart\n",
        "plt.legend(fontsize=15)                   #Increasing legend fontsize"
      ],
      "metadata": {
        "colab": {
          "base_uri": "https://localhost:8080/",
          "height": 516
        },
        "id": "XYNli2B_d_zo",
        "outputId": "c8ac33c3-acfc-4d9f-bdef-59cda3b913b0"
      },
      "execution_count": 20,
      "outputs": [
        {
          "output_type": "execute_result",
          "data": {
            "text/plain": [
              "<matplotlib.legend.Legend at 0x7fd50fdc7210>"
            ]
          },
          "metadata": {},
          "execution_count": 20
        },
        {
          "output_type": "display_data",
          "data": {
            "image/png": "[encoded data removed]",
            "text/plain": [
              "<Figure size 864x576 with 1 Axes>"
            ]
          },
          "metadata": {
            "needs_background": "light"
          }
        }
      ]
    },
    {
      "cell_type": "markdown",
      "source": [
        "- With the above results, it can easily be seen how the weights changed with each method. It makes sense as well, for the first method aimed for the portfolio with the least amount of risk. Tesla is obviously the riskiest asset here out of the two by far, for it contains great amounts of volatility due to high price movements. However, in the Black-Litterman method, the investor's views are included. The views used favored Tesla's stock over Coca-cola's, meaning the investor saw higher potential for Tesla's stock over Coca-cola's. As seen, the Black-Litterman method resulted in Tesla having a much higher weight, being the opposite of the first method and making sense with the given information."
      ],
      "metadata": {
        "id": "v2FBKg1te41o"
      }
    },
    {
      "cell_type": "markdown",
      "source": [
        "## Conclusion:\n",
        "\n",
        "\n",
        "---\n",
        "\n",
        "\n",
        "It is clear that the use of technological tools such as Python can be extremely helpful in implementing useful methods of asset allocation. These popular methods also prove to make sense towards their desired goals, for the weights generated followed the logic behind the information given. With this, it can easily be seen through this simple 2-asset example on how each one works and differs from the other. The Black-Litterman model surely provides greater flexibility and ability to include forward-looking returns according to an investor's opinion and even forecasting technique, which may prove to be of better use as returns don't necessarily follow historical data only."
      ],
      "metadata": {
        "id": "O-8u6BKBf9fe"
      }
    },
    {
      "cell_type": "markdown",
      "source": [
        "# References:\n",
        "\n",
        "\n",
        "---\n",
        "\n",
        "- A STEP-BY-STEP GUIDE TO THE BLACK-LITTERMAN MODEL: Incorporating user-specified confidence levels (Thomas M. Idzorek - 2004)\n",
        "\n",
        "- An Introduction to Modern Portfolio Theory: Markowitz, CAP-M, APT and Black-Litterman (Dr. Graeme West - 2004)\n",
        "\n",
        "- The Black-Litterman Approach: Original Model and Extensions (Attilio Meucci - 2010)\n",
        "\n"
      ],
      "metadata": {
        "id": "GjY3VdS65YZ9"
      }
    }
  ]
}
